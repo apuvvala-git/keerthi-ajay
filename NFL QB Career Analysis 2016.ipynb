{
 "cells": [
  {
   "cell_type": "code",
   "execution_count": 252,
   "metadata": {},
   "outputs": [],
   "source": [
    "import pandas\n",
    "\n",
    "import matplotlib.pyplot as plt\n",
    "import seaborn as sns"
   ]
  },
  {
   "cell_type": "markdown",
   "metadata": {},
   "source": [
    "## Read the data set"
   ]
  },
  {
   "cell_type": "code",
   "execution_count": 253,
   "metadata": {},
   "outputs": [
    {
     "data": {
      "text/plain": [
       "Player Id                          object\n",
       "Name                               object\n",
       "Position                           object\n",
       "Year                                int64\n",
       "Team                               object\n",
       "Games Played                        int64\n",
       "Passes Attempted                   object\n",
       "Passes Completed                   object\n",
       "Completion Percentage              object\n",
       "Pass Attempts Per Game            float64\n",
       "Passing Yards                      object\n",
       "Passing Yards Per Attempt          object\n",
       "Passing Yards Per Game             object\n",
       "TD Passes                          object\n",
       "Percentage of TDs per Attempts     object\n",
       "Ints                               object\n",
       "Int Rate                           object\n",
       "Longest Pass                       object\n",
       "Passes Longer than 20 Yards        object\n",
       "Passes Longer than 40 Yards        object\n",
       "Sacks                              object\n",
       "Sacked Yards Lost                  object\n",
       "Passer Rating                     float64\n",
       "dtype: object"
      ]
     },
     "execution_count": 253,
     "metadata": {},
     "output_type": "execute_result"
    }
   ],
   "source": [
    "# Read QB career statistics\n",
    "qb_data = pandas.read_csv(\"Career_Stats_Passing.csv\")\n",
    "qb_data.infer_objects().dtypes"
   ]
  },
  {
   "cell_type": "code",
   "execution_count": 254,
   "metadata": {},
   "outputs": [],
   "source": [
    "# qb_data.dropna(inplace=True)"
   ]
  },
  {
   "cell_type": "code",
   "execution_count": 255,
   "metadata": {},
   "outputs": [
    {
     "name": "stdout",
     "output_type": "stream",
     "text": [
      "Index(['Player Id', 'Name', 'Position', 'Year', 'Team', 'Games Played',\n",
      "       'Passes Attempted', 'Passes Completed', 'Completion Percentage',\n",
      "       'Pass Attempts Per Game', 'Passing Yards', 'Passing Yards Per Attempt',\n",
      "       'Passing Yards Per Game', 'TD Passes', 'Percentage of TDs per Attempts',\n",
      "       'Ints', 'Int Rate', 'Longest Pass', 'Passes Longer than 20 Yards',\n",
      "       'Passes Longer than 40 Yards', 'Sacks', 'Sacked Yards Lost',\n",
      "       'Passer Rating'],\n",
      "      dtype='object')\n"
     ]
    }
   ],
   "source": [
    "# Columns\n",
    "print(qb_data.columns)"
   ]
  },
  {
   "cell_type": "code",
   "execution_count": 256,
   "metadata": {},
   "outputs": [
    {
     "data": {
      "text/plain": [
       "(8525, 23)"
      ]
     },
     "execution_count": 256,
     "metadata": {},
     "output_type": "execute_result"
    }
   ],
   "source": [
    "# Num rows & columns\n",
    "qb_data.shape"
   ]
  },
  {
   "cell_type": "markdown",
   "metadata": {},
   "source": [
    "## Fix column names"
   ]
  },
  {
   "cell_type": "code",
   "execution_count": 257,
   "metadata": {},
   "outputs": [
    {
     "data": {
      "text/plain": [
       "Index(['player_id', 'name', 'position', 'year', 'team', 'games_played',\n",
       "       'passes_attempted', 'passes_completed', 'completion_percentage',\n",
       "       'pass_attempts_per_game', 'passing_yards', 'passing_yards_per_attempt',\n",
       "       'passing_yards_per_game', 'td_passes', 'percentage_of_tds_per_attempts',\n",
       "       'ints', 'int_rate', 'longest_pass', 'passes_longer_than_20_yards',\n",
       "       'passes_longer_than_40_yards', 'sacks', 'sacked_yards_lost',\n",
       "       'passer_rating'],\n",
       "      dtype='object')"
      ]
     },
     "execution_count": 257,
     "metadata": {},
     "output_type": "execute_result"
    }
   ],
   "source": [
    "qb_data.columns = qb_data.columns.str.strip().str.lower().str.replace(' ', '_').str.replace('(', '').str.replace(')', '')\n",
    "\n",
    "# print new columns names\n",
    "qb_data.columns"
   ]
  },
  {
   "cell_type": "markdown",
   "metadata": {},
   "source": [
    "## Trim the Data\n",
    "\n",
    "First, let's trim the data to look at only the most recent years"
   ]
  },
  {
   "cell_type": "code",
   "execution_count": 259,
   "metadata": {},
   "outputs": [
    {
     "data": {
      "text/plain": [
       "(34, 23)"
      ]
     },
     "execution_count": 259,
     "metadata": {},
     "output_type": "execute_result"
    }
   ],
   "source": [
    "# Drop columns that we don't care\n",
    "qb_data.drop(['player_id', 'int_rate'], axis=1)\n",
    "\n",
    "# Select only the most recent year\n",
    "qb_data = qb_data[qb_data.year == 2016]\n",
    "\n",
    "# Remove QBs who haven't played enough games\n",
    "qb_data = qb_data[qb_data.games_played >= 8]\n",
    "\n",
    "# Remove QBs who haven't played enough games\n",
    "qb_data = qb_data[qb_data.position == 'QB']\n",
    "\n",
    "# Let's check what the shape is now\n",
    "qb_data.shape"
   ]
  },
  {
   "cell_type": "markdown",
   "metadata": {},
   "source": [
    "## Analysis - QB Efficiency\n",
    "\n",
    "Let's look at the following stats:\n",
    "\n",
    "1. pass completion rate\n",
    "2. total TDs\n",
    "3. TDs per attempts\n",
    "4. interception rate\n",
    "5. passer rating"
   ]
  },
  {
   "cell_type": "markdown",
   "metadata": {},
   "source": [
    "### Pass Completion Rate\n"
   ]
  },
  {
   "cell_type": "code",
   "execution_count": 260,
   "metadata": {},
   "outputs": [],
   "source": [
    "accurate_qbs = qb_data.sort_values(by=['completion_percentage'], ascending=False)[:10]\n",
    "accurate_qbs.completion_percentage = accurate_qbs.completion_percentage.astype('float64', copy=False)"
   ]
  },
  {
   "cell_type": "code",
   "execution_count": 261,
   "metadata": {
    "scrolled": true
   },
   "outputs": [
    {
     "data": {
      "text/html": [
       "<div>\n",
       "<style scoped>\n",
       "    .dataframe tbody tr th:only-of-type {\n",
       "        vertical-align: middle;\n",
       "    }\n",
       "\n",
       "    .dataframe tbody tr th {\n",
       "        vertical-align: top;\n",
       "    }\n",
       "\n",
       "    .dataframe thead th {\n",
       "        text-align: right;\n",
       "    }\n",
       "</style>\n",
       "<table border=\"1\" class=\"dataframe\">\n",
       "  <thead>\n",
       "    <tr style=\"text-align: right;\">\n",
       "      <th></th>\n",
       "      <th>player_id</th>\n",
       "      <th>name</th>\n",
       "      <th>position</th>\n",
       "      <th>year</th>\n",
       "      <th>team</th>\n",
       "      <th>games_played</th>\n",
       "      <th>passes_attempted</th>\n",
       "      <th>passes_completed</th>\n",
       "      <th>completion_percentage</th>\n",
       "      <th>pass_attempts_per_game</th>\n",
       "      <th>...</th>\n",
       "      <th>td_passes</th>\n",
       "      <th>percentage_of_tds_per_attempts</th>\n",
       "      <th>ints</th>\n",
       "      <th>int_rate</th>\n",
       "      <th>longest_pass</th>\n",
       "      <th>passes_longer_than_20_yards</th>\n",
       "      <th>passes_longer_than_40_yards</th>\n",
       "      <th>sacks</th>\n",
       "      <th>sacked_yards_lost</th>\n",
       "      <th>passer_rating</th>\n",
       "    </tr>\n",
       "  </thead>\n",
       "  <tbody>\n",
       "    <tr>\n",
       "      <th>5820</th>\n",
       "      <td>sambradford/497095</td>\n",
       "      <td>Bradford, Sam</td>\n",
       "      <td>QB</td>\n",
       "      <td>2016</td>\n",
       "      <td>Minnesota Vikings</td>\n",
       "      <td>15</td>\n",
       "      <td>552</td>\n",
       "      <td>395</td>\n",
       "      <td>71.6</td>\n",
       "      <td>36.8</td>\n",
       "      <td>...</td>\n",
       "      <td>20</td>\n",
       "      <td>3.6</td>\n",
       "      <td>5</td>\n",
       "      <td>0.9</td>\n",
       "      <td>71T</td>\n",
       "      <td>49</td>\n",
       "      <td>8</td>\n",
       "      <td>37</td>\n",
       "      <td>276</td>\n",
       "      <td>99.3</td>\n",
       "    </tr>\n",
       "    <tr>\n",
       "      <th>956</th>\n",
       "      <td>drewbrees/2504775</td>\n",
       "      <td>Brees, Drew</td>\n",
       "      <td>QB</td>\n",
       "      <td>2016</td>\n",
       "      <td>New Orleans Saints</td>\n",
       "      <td>16</td>\n",
       "      <td>673</td>\n",
       "      <td>471</td>\n",
       "      <td>70.0</td>\n",
       "      <td>42.1</td>\n",
       "      <td>...</td>\n",
       "      <td>37</td>\n",
       "      <td>5.5</td>\n",
       "      <td>15</td>\n",
       "      <td>2.2</td>\n",
       "      <td>98T</td>\n",
       "      <td>70</td>\n",
       "      <td>10</td>\n",
       "      <td>27</td>\n",
       "      <td>184</td>\n",
       "      <td>101.7</td>\n",
       "    </tr>\n",
       "    <tr>\n",
       "      <th>3321</th>\n",
       "      <td>mattryan/310</td>\n",
       "      <td>Ryan, Matt</td>\n",
       "      <td>QB</td>\n",
       "      <td>2016</td>\n",
       "      <td>Atlanta Falcons</td>\n",
       "      <td>16</td>\n",
       "      <td>534</td>\n",
       "      <td>373</td>\n",
       "      <td>69.9</td>\n",
       "      <td>33.4</td>\n",
       "      <td>...</td>\n",
       "      <td>38</td>\n",
       "      <td>7.1</td>\n",
       "      <td>7</td>\n",
       "      <td>1.3</td>\n",
       "      <td>76T</td>\n",
       "      <td>69</td>\n",
       "      <td>17</td>\n",
       "      <td>37</td>\n",
       "      <td>235</td>\n",
       "      <td>117.1</td>\n",
       "    </tr>\n",
       "    <tr>\n",
       "      <th>1243</th>\n",
       "      <td>dakprescott/2555260</td>\n",
       "      <td>Prescott, Dak</td>\n",
       "      <td>QB</td>\n",
       "      <td>2016</td>\n",
       "      <td>Dallas Cowboys</td>\n",
       "      <td>16</td>\n",
       "      <td>459</td>\n",
       "      <td>311</td>\n",
       "      <td>67.8</td>\n",
       "      <td>28.7</td>\n",
       "      <td>...</td>\n",
       "      <td>23</td>\n",
       "      <td>5.0</td>\n",
       "      <td>4</td>\n",
       "      <td>0.9</td>\n",
       "      <td>83T</td>\n",
       "      <td>38</td>\n",
       "      <td>8</td>\n",
       "      <td>25</td>\n",
       "      <td>143</td>\n",
       "      <td>104.9</td>\n",
       "    </tr>\n",
       "    <tr>\n",
       "      <th>2577</th>\n",
       "      <td>tombrady/2504211</td>\n",
       "      <td>Brady, Tom</td>\n",
       "      <td>QB</td>\n",
       "      <td>2016</td>\n",
       "      <td>New England Patriots</td>\n",
       "      <td>12</td>\n",
       "      <td>432</td>\n",
       "      <td>291</td>\n",
       "      <td>67.4</td>\n",
       "      <td>36.0</td>\n",
       "      <td>...</td>\n",
       "      <td>28</td>\n",
       "      <td>6.5</td>\n",
       "      <td>2</td>\n",
       "      <td>0.5</td>\n",
       "      <td>79T</td>\n",
       "      <td>45</td>\n",
       "      <td>8</td>\n",
       "      <td>15</td>\n",
       "      <td>87</td>\n",
       "      <td>112.2</td>\n",
       "    </tr>\n",
       "  </tbody>\n",
       "</table>\n",
       "<p>5 rows × 23 columns</p>\n",
       "</div>"
      ],
      "text/plain": [
       "                player_id           name position  year                  team  \\\n",
       "5820   sambradford/497095  Bradford, Sam       QB  2016     Minnesota Vikings   \n",
       "956     drewbrees/2504775    Brees, Drew       QB  2016    New Orleans Saints   \n",
       "3321         mattryan/310     Ryan, Matt       QB  2016       Atlanta Falcons   \n",
       "1243  dakprescott/2555260  Prescott, Dak       QB  2016        Dallas Cowboys   \n",
       "2577     tombrady/2504211     Brady, Tom       QB  2016  New England Patriots   \n",
       "\n",
       "      games_played passes_attempted passes_completed  completion_percentage  \\\n",
       "5820            15              552              395                   71.6   \n",
       "956             16              673              471                   70.0   \n",
       "3321            16              534              373                   69.9   \n",
       "1243            16              459              311                   67.8   \n",
       "2577            12              432              291                   67.4   \n",
       "\n",
       "      pass_attempts_per_game      ...      td_passes  \\\n",
       "5820                    36.8      ...             20   \n",
       "956                     42.1      ...             37   \n",
       "3321                    33.4      ...             38   \n",
       "1243                    28.7      ...             23   \n",
       "2577                    36.0      ...             28   \n",
       "\n",
       "     percentage_of_tds_per_attempts ints int_rate longest_pass  \\\n",
       "5820                            3.6    5      0.9          71T   \n",
       "956                             5.5   15      2.2          98T   \n",
       "3321                            7.1    7      1.3          76T   \n",
       "1243                            5.0    4      0.9          83T   \n",
       "2577                            6.5    2      0.5          79T   \n",
       "\n",
       "     passes_longer_than_20_yards passes_longer_than_40_yards sacks  \\\n",
       "5820                          49                           8    37   \n",
       "956                           70                          10    27   \n",
       "3321                          69                          17    37   \n",
       "1243                          38                           8    25   \n",
       "2577                          45                           8    15   \n",
       "\n",
       "     sacked_yards_lost passer_rating  \n",
       "5820               276          99.3  \n",
       "956                184         101.7  \n",
       "3321               235         117.1  \n",
       "1243               143         104.9  \n",
       "2577                87         112.2  \n",
       "\n",
       "[5 rows x 23 columns]"
      ]
     },
     "execution_count": 261,
     "metadata": {},
     "output_type": "execute_result"
    }
   ],
   "source": [
    "accurate_qbs.head()"
   ]
  },
  {
   "cell_type": "code",
   "execution_count": 262,
   "metadata": {
    "scrolled": false
   },
   "outputs": [
    {
     "data": {
      "text/plain": [
       "<matplotlib.axes._subplots.AxesSubplot at 0x1a1d169ef0>"
      ]
     },
     "execution_count": 262,
     "metadata": {},
     "output_type": "execute_result"
    },
    {
     "data": {
      "image/png": "[encoded data removed]",
      "text/plain": [
       "<Figure size 1080x432 with 1 Axes>"
      ]
     },
     "metadata": {},
     "output_type": "display_data"
    }
   ],
   "source": [
    "plt.figure(figsize=(15,6))\n",
    "sns.barplot(x='name', y='completion_percentage', data=accurate_qbs)"
   ]
  },
  {
   "cell_type": "markdown",
   "metadata": {},
   "source": [
    "### Passing Yards Per Attempt"
   ]
  },
  {
   "cell_type": "code",
   "execution_count": 263,
   "metadata": {},
   "outputs": [],
   "source": [
    "pass_leaning_qbs = qb_data.sort_values(by=['passing_yards_per_attempt'], ascending=False)[:10]\n",
    "pass_leaning_qbs.passing_yards_per_attempt = pass_leaning_qbs.passing_yards_per_attempt.astype('float64', copy=False)"
   ]
  },
  {
   "cell_type": "code",
   "execution_count": 264,
   "metadata": {},
   "outputs": [
    {
     "data": {
      "text/plain": [
       "<matplotlib.axes._subplots.AxesSubplot at 0x1a1d0c85f8>"
      ]
     },
     "execution_count": 264,
     "metadata": {},
     "output_type": "execute_result"
    },
    {
     "data": {
      "image/png": "[encoded data removed]",
      "text/plain": [
       "<Figure size 1080x432 with 1 Axes>"
      ]
     },
     "metadata": {},
     "output_type": "display_data"
    }
   ],
   "source": [
    "plt.figure(figsize=(15,6))\n",
    "sns.barplot(x='name', y='passing_yards_per_attempt', data=pass_leaning_qbs)"
   ]
  },
  {
   "cell_type": "markdown",
   "metadata": {},
   "source": [
    "### Total TDs"
   ]
  },
  {
   "cell_type": "code",
   "execution_count": 282,
   "metadata": {},
   "outputs": [
    {
     "data": {
      "text/plain": [
       "<matplotlib.axes._subplots.AxesSubplot at 0x1a1fada7b8>"
      ]
     },
     "execution_count": 282,
     "metadata": {},
     "output_type": "execute_result"
    },
    {
     "data": {
      "image/png": "[encoded data removed]",
      "text/plain": [
       "<Figure size 1080x432 with 1 Axes>"
      ]
     },
     "metadata": {},
     "output_type": "display_data"
    }
   ],
   "source": [
    "# \n",
    "# scoring_qbs.sort_values(by='td_passes', ascending=False).head(10)\n",
    "scoring_qbs = qb_data.sort_values(by='td_passes', ascending=False)[:10]\n",
    "scoring_qbs.td_passes = scoring_qbs.td_passes.astype('float64', copy=False)\n",
    "\n",
    "plt.figure(figsize=(15,6))\n",
    "sns.barplot(x='name', y='td_passes', data=scoring_qbs)"
   ]
  },
  {
   "cell_type": "code",
   "execution_count": null,
   "metadata": {},
   "outputs": [],
   "source": []
  },
  {
   "cell_type": "code",
   "execution_count": null,
   "metadata": {},
   "outputs": [],
   "source": []
  },
  {
   "cell_type": "code",
   "execution_count": null,
   "metadata": {},
   "outputs": [],
   "source": []
  },
  {
   "cell_type": "code",
   "execution_count": null,
   "metadata": {},
   "outputs": [],
   "source": []
  },
  {
   "cell_type": "code",
   "execution_count": null,
   "metadata": {},
   "outputs": [],
   "source": []
  }
 ],
 "metadata": {
  "kernelspec": {
   "display_name": "Python 3",
   "language": "python",
   "name": "python3"
  },
  "language_info": {
   "codemirror_mode": {
    "name": "ipython",
    "version": 3
   },
   "file_extension": ".py",
   "mimetype": "text/x-python",
   "name": "python",
   "nbconvert_exporter": "python",
   "pygments_lexer": "ipython3",
   "version": "3.6.5"
  }
 },
 "nbformat": 4,
 "nbformat_minor": 2
}
